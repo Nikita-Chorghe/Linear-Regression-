{
  "nbformat": 4,
  "nbformat_minor": 0,
  "metadata": {
    "colab": {
      "name": "part2.ipynb",
      "provenance": [],
      "collapsed_sections": []
    },
    "kernelspec": {
      "name": "python3",
      "display_name": "Python 3"
    },
    "language_info": {
      "name": "python"
    }
  },
  "cells": [
    {
      "cell_type": "code",
      "metadata": {
        "id": "qO8s4lLKelGh"
      },
      "source": [
        ""
      ],
      "execution_count": 1,
      "outputs": []
    },
    {
      "cell_type": "code",
      "metadata": {
        "id": "3ZeNiXmzesVn"
      },
      "source": [
        "import numpy as np\n",
        "import matplotlib.pyplot as plt \n",
        "import pandas as pd  \n",
        "import seaborn as sns \n",
        "from sklearn.metrics import r2_score\n",
        "from sklearn.preprocessing import StandardScaler\n",
        "from sklearn.model_selection import train_test_split\n",
        "from sklearn.linear_model import LinearRegression\n",
        "from sklearn.metrics import mean_squared_error\n",
        "from sklearn.linear_model import SGDRegressor\n",
        "from sklearn.preprocessing import StandardScaler\n",
        "import requests\n",
        "import io"
      ],
      "execution_count": 2,
      "outputs": []
    },
    {
      "cell_type": "markdown",
      "metadata": {
        "id": "tXrlZcJ-Grl8"
      },
      "source": [
        "## **Dataset**"
      ]
    },
    {
      "cell_type": "code",
      "metadata": {
        "id": "dH63hB2SfD3s"
      },
      "source": [
        "url = \"https://raw.githubusercontent.com/bharathtej/UCI-CBM-Dataset/main/data.txt\"\n",
        "download = requests.get(url).content\n",
        "result = pd.read_fwf(io.StringIO(download.decode('utf-8')))"
      ],
      "execution_count": 3,
      "outputs": []
    },
    {
      "cell_type": "code",
      "metadata": {
        "id": "vMgDh3BIfJCw"
      },
      "source": [
        "result.columns = ['lp', 'v [knots]','GTT [kN m]','GTn [rpm]', 'GGn [rpm]', 'Ts [kN]', 'Tp [kN]', 'T48 [C]', 'T1 [C]', 'T2 [C]', 'P48 [bar]', 'P1 [bar]', 'P2 [bar]', 'Pexh [bar]', 'TIC [%]', 'mf [kg/s]', 'GT Compressor decay state coefficient', 'GT Turbine decay state coefficient']"
      ],
      "execution_count": 4,
      "outputs": []
    },
    {
      "cell_type": "code",
      "metadata": {
        "colab": {
          "base_uri": "https://localhost:8080/",
          "height": 220
        },
        "id": "yyKJnF83fPvf",
        "outputId": "3560cb97-27d7-4dfa-e0a9-c055ba045b97"
      },
      "source": [
        "result.head(5)"
      ],
      "execution_count": 5,
      "outputs": [
        {
          "output_type": "execute_result",
          "data": {
            "text/html": [
              "<div>\n",
              "<style scoped>\n",
              "    .dataframe tbody tr th:only-of-type {\n",
              "        vertical-align: middle;\n",
              "    }\n",
              "\n",
              "    .dataframe tbody tr th {\n",
              "        vertical-align: top;\n",
              "    }\n",
              "\n",
              "    .dataframe thead th {\n",
              "        text-align: right;\n",
              "    }\n",
              "</style>\n",
              "<table border=\"1\" class=\"dataframe\">\n",
              "  <thead>\n",
              "    <tr style=\"text-align: right;\">\n",
              "      <th></th>\n",
              "      <th>lp</th>\n",
              "      <th>v [knots]</th>\n",
              "      <th>GTT [kN m]</th>\n",
              "      <th>GTn [rpm]</th>\n",
              "      <th>GGn [rpm]</th>\n",
              "      <th>Ts [kN]</th>\n",
              "      <th>Tp [kN]</th>\n",
              "      <th>T48 [C]</th>\n",
              "      <th>T1 [C]</th>\n",
              "      <th>T2 [C]</th>\n",
              "      <th>P48 [bar]</th>\n",
              "      <th>P1 [bar]</th>\n",
              "      <th>P2 [bar]</th>\n",
              "      <th>Pexh [bar]</th>\n",
              "      <th>TIC [%]</th>\n",
              "      <th>mf [kg/s]</th>\n",
              "      <th>GT Compressor decay state coefficient</th>\n",
              "      <th>GT Turbine decay state coefficient</th>\n",
              "    </tr>\n",
              "  </thead>\n",
              "  <tbody>\n",
              "    <tr>\n",
              "      <th>0</th>\n",
              "      <td>2.088</td>\n",
              "      <td>6.0</td>\n",
              "      <td>6960.180</td>\n",
              "      <td>1376.166</td>\n",
              "      <td>6828.469</td>\n",
              "      <td>28.204</td>\n",
              "      <td>28.204</td>\n",
              "      <td>635.401</td>\n",
              "      <td>288.0</td>\n",
              "      <td>581.658</td>\n",
              "      <td>1.331</td>\n",
              "      <td>0.998</td>\n",
              "      <td>7.282</td>\n",
              "      <td>1.019</td>\n",
              "      <td>10.655</td>\n",
              "      <td>0.287</td>\n",
              "      <td>0.95</td>\n",
              "      <td>0.975</td>\n",
              "    </tr>\n",
              "    <tr>\n",
              "      <th>1</th>\n",
              "      <td>3.144</td>\n",
              "      <td>9.0</td>\n",
              "      <td>8379.229</td>\n",
              "      <td>1386.757</td>\n",
              "      <td>7111.811</td>\n",
              "      <td>60.358</td>\n",
              "      <td>60.358</td>\n",
              "      <td>606.002</td>\n",
              "      <td>288.0</td>\n",
              "      <td>587.587</td>\n",
              "      <td>1.389</td>\n",
              "      <td>0.998</td>\n",
              "      <td>7.574</td>\n",
              "      <td>1.020</td>\n",
              "      <td>13.086</td>\n",
              "      <td>0.259</td>\n",
              "      <td>0.95</td>\n",
              "      <td>0.975</td>\n",
              "    </tr>\n",
              "    <tr>\n",
              "      <th>2</th>\n",
              "      <td>4.161</td>\n",
              "      <td>12.0</td>\n",
              "      <td>14724.395</td>\n",
              "      <td>1547.465</td>\n",
              "      <td>7792.630</td>\n",
              "      <td>113.774</td>\n",
              "      <td>113.774</td>\n",
              "      <td>661.471</td>\n",
              "      <td>288.0</td>\n",
              "      <td>613.851</td>\n",
              "      <td>1.658</td>\n",
              "      <td>0.998</td>\n",
              "      <td>9.007</td>\n",
              "      <td>1.022</td>\n",
              "      <td>18.109</td>\n",
              "      <td>0.358</td>\n",
              "      <td>0.95</td>\n",
              "      <td>0.975</td>\n",
              "    </tr>\n",
              "    <tr>\n",
              "      <th>3</th>\n",
              "      <td>5.140</td>\n",
              "      <td>15.0</td>\n",
              "      <td>21636.432</td>\n",
              "      <td>1924.313</td>\n",
              "      <td>8494.777</td>\n",
              "      <td>175.306</td>\n",
              "      <td>175.306</td>\n",
              "      <td>731.494</td>\n",
              "      <td>288.0</td>\n",
              "      <td>645.642</td>\n",
              "      <td>2.078</td>\n",
              "      <td>0.998</td>\n",
              "      <td>11.197</td>\n",
              "      <td>1.026</td>\n",
              "      <td>26.373</td>\n",
              "      <td>0.522</td>\n",
              "      <td>0.95</td>\n",
              "      <td>0.975</td>\n",
              "    </tr>\n",
              "    <tr>\n",
              "      <th>4</th>\n",
              "      <td>6.175</td>\n",
              "      <td>18.0</td>\n",
              "      <td>29792.731</td>\n",
              "      <td>2307.404</td>\n",
              "      <td>8828.360</td>\n",
              "      <td>246.278</td>\n",
              "      <td>246.278</td>\n",
              "      <td>800.434</td>\n",
              "      <td>288.0</td>\n",
              "      <td>676.397</td>\n",
              "      <td>2.501</td>\n",
              "      <td>0.998</td>\n",
              "      <td>13.356</td>\n",
              "      <td>1.030</td>\n",
              "      <td>35.760</td>\n",
              "      <td>0.708</td>\n",
              "      <td>0.95</td>\n",
              "      <td>0.975</td>\n",
              "    </tr>\n",
              "  </tbody>\n",
              "</table>\n",
              "</div>"
            ],
            "text/plain": [
              "      lp  ...  GT Turbine decay state coefficient\n",
              "0  2.088  ...                               0.975\n",
              "1  3.144  ...                               0.975\n",
              "2  4.161  ...                               0.975\n",
              "3  5.140  ...                               0.975\n",
              "4  6.175  ...                               0.975\n",
              "\n",
              "[5 rows x 18 columns]"
            ]
          },
          "metadata": {},
          "execution_count": 5
        }
      ]
    },
    {
      "cell_type": "code",
      "metadata": {
        "colab": {
          "base_uri": "https://localhost:8080/",
          "height": 366
        },
        "id": "J44NmrGgfTPb",
        "outputId": "c4dfe18c-230a-477e-ca6f-5f600b14dca8"
      },
      "source": [
        "result.describe()"
      ],
      "execution_count": 6,
      "outputs": [
        {
          "output_type": "execute_result",
          "data": {
            "text/html": [
              "<div>\n",
              "<style scoped>\n",
              "    .dataframe tbody tr th:only-of-type {\n",
              "        vertical-align: middle;\n",
              "    }\n",
              "\n",
              "    .dataframe tbody tr th {\n",
              "        vertical-align: top;\n",
              "    }\n",
              "\n",
              "    .dataframe thead th {\n",
              "        text-align: right;\n",
              "    }\n",
              "</style>\n",
              "<table border=\"1\" class=\"dataframe\">\n",
              "  <thead>\n",
              "    <tr style=\"text-align: right;\">\n",
              "      <th></th>\n",
              "      <th>lp</th>\n",
              "      <th>v [knots]</th>\n",
              "      <th>GTT [kN m]</th>\n",
              "      <th>GTn [rpm]</th>\n",
              "      <th>GGn [rpm]</th>\n",
              "      <th>Ts [kN]</th>\n",
              "      <th>Tp [kN]</th>\n",
              "      <th>T48 [C]</th>\n",
              "      <th>T1 [C]</th>\n",
              "      <th>T2 [C]</th>\n",
              "      <th>P48 [bar]</th>\n",
              "      <th>P1 [bar]</th>\n",
              "      <th>P2 [bar]</th>\n",
              "      <th>Pexh [bar]</th>\n",
              "      <th>TIC [%]</th>\n",
              "      <th>mf [kg/s]</th>\n",
              "      <th>GT Compressor decay state coefficient</th>\n",
              "      <th>GT Turbine decay state coefficient</th>\n",
              "    </tr>\n",
              "  </thead>\n",
              "  <tbody>\n",
              "    <tr>\n",
              "      <th>count</th>\n",
              "      <td>11933.000000</td>\n",
              "      <td>11933.000000</td>\n",
              "      <td>11933.000000</td>\n",
              "      <td>11933.000000</td>\n",
              "      <td>11933.000000</td>\n",
              "      <td>11933.000000</td>\n",
              "      <td>11933.000000</td>\n",
              "      <td>11933.000000</td>\n",
              "      <td>11933.0</td>\n",
              "      <td>11933.000000</td>\n",
              "      <td>11933.000000</td>\n",
              "      <td>1.193300e+04</td>\n",
              "      <td>11933.000000</td>\n",
              "      <td>11933.000000</td>\n",
              "      <td>11933.000000</td>\n",
              "      <td>11933.000000</td>\n",
              "      <td>11933.000000</td>\n",
              "      <td>11933.000000</td>\n",
              "    </tr>\n",
              "    <tr>\n",
              "      <th>mean</th>\n",
              "      <td>5.167004</td>\n",
              "      <td>15.001006</td>\n",
              "      <td>27249.757760</td>\n",
              "      <td>2136.355191</td>\n",
              "      <td>8201.074989</td>\n",
              "      <td>227.354184</td>\n",
              "      <td>227.354184</td>\n",
              "      <td>735.518197</td>\n",
              "      <td>288.0</td>\n",
              "      <td>646.223347</td>\n",
              "      <td>2.353068</td>\n",
              "      <td>9.980000e-01</td>\n",
              "      <td>12.297655</td>\n",
              "      <td>1.029475</td>\n",
              "      <td>33.643482</td>\n",
              "      <td>0.662488</td>\n",
              "      <td>0.975002</td>\n",
              "      <td>0.987501</td>\n",
              "    </tr>\n",
              "    <tr>\n",
              "      <th>std</th>\n",
              "      <td>2.626239</td>\n",
              "      <td>7.745837</td>\n",
              "      <td>22148.166255</td>\n",
              "      <td>774.082804</td>\n",
              "      <td>1091.272098</td>\n",
              "      <td>200.494197</td>\n",
              "      <td>200.494197</td>\n",
              "      <td>173.670045</td>\n",
              "      <td>0.0</td>\n",
              "      <td>72.673651</td>\n",
              "      <td>1.084754</td>\n",
              "      <td>2.533635e-13</td>\n",
              "      <td>5.337355</td>\n",
              "      <td>0.010390</td>\n",
              "      <td>25.841307</td>\n",
              "      <td>0.507125</td>\n",
              "      <td>0.014719</td>\n",
              "      <td>0.007500</td>\n",
              "    </tr>\n",
              "    <tr>\n",
              "      <th>min</th>\n",
              "      <td>1.138000</td>\n",
              "      <td>3.000000</td>\n",
              "      <td>253.547000</td>\n",
              "      <td>1307.675000</td>\n",
              "      <td>6589.002000</td>\n",
              "      <td>5.304000</td>\n",
              "      <td>5.304000</td>\n",
              "      <td>442.364000</td>\n",
              "      <td>288.0</td>\n",
              "      <td>540.442000</td>\n",
              "      <td>1.093000</td>\n",
              "      <td>9.980000e-01</td>\n",
              "      <td>5.828000</td>\n",
              "      <td>1.019000</td>\n",
              "      <td>0.000000</td>\n",
              "      <td>0.068000</td>\n",
              "      <td>0.950000</td>\n",
              "      <td>0.975000</td>\n",
              "    </tr>\n",
              "    <tr>\n",
              "      <th>25%</th>\n",
              "      <td>3.144000</td>\n",
              "      <td>9.000000</td>\n",
              "      <td>8375.886000</td>\n",
              "      <td>1386.758000</td>\n",
              "      <td>7058.402000</td>\n",
              "      <td>60.317000</td>\n",
              "      <td>60.317000</td>\n",
              "      <td>589.875000</td>\n",
              "      <td>288.0</td>\n",
              "      <td>578.102000</td>\n",
              "      <td>1.389000</td>\n",
              "      <td>9.980000e-01</td>\n",
              "      <td>7.448000</td>\n",
              "      <td>1.020000</td>\n",
              "      <td>13.700000</td>\n",
              "      <td>0.246000</td>\n",
              "      <td>0.962000</td>\n",
              "      <td>0.981000</td>\n",
              "    </tr>\n",
              "    <tr>\n",
              "      <th>50%</th>\n",
              "      <td>5.140000</td>\n",
              "      <td>15.000000</td>\n",
              "      <td>21630.666000</td>\n",
              "      <td>1924.326000</td>\n",
              "      <td>8482.088000</td>\n",
              "      <td>175.268000</td>\n",
              "      <td>175.268000</td>\n",
              "      <td>706.048000</td>\n",
              "      <td>288.0</td>\n",
              "      <td>637.142000</td>\n",
              "      <td>2.083000</td>\n",
              "      <td>9.980000e-01</td>\n",
              "      <td>11.092000</td>\n",
              "      <td>1.026000</td>\n",
              "      <td>25.277000</td>\n",
              "      <td>0.496000</td>\n",
              "      <td>0.975000</td>\n",
              "      <td>0.988000</td>\n",
              "    </tr>\n",
              "    <tr>\n",
              "      <th>75%</th>\n",
              "      <td>7.148000</td>\n",
              "      <td>21.000000</td>\n",
              "      <td>39001.427000</td>\n",
              "      <td>2678.079000</td>\n",
              "      <td>9132.610000</td>\n",
              "      <td>332.365000</td>\n",
              "      <td>332.365000</td>\n",
              "      <td>834.091000</td>\n",
              "      <td>288.0</td>\n",
              "      <td>693.928000</td>\n",
              "      <td>2.981000</td>\n",
              "      <td>9.980000e-01</td>\n",
              "      <td>15.658000</td>\n",
              "      <td>1.036000</td>\n",
              "      <td>44.553000</td>\n",
              "      <td>0.882000</td>\n",
              "      <td>0.988000</td>\n",
              "      <td>0.994000</td>\n",
              "    </tr>\n",
              "    <tr>\n",
              "      <th>max</th>\n",
              "      <td>9.300000</td>\n",
              "      <td>27.000000</td>\n",
              "      <td>72784.872000</td>\n",
              "      <td>3560.741000</td>\n",
              "      <td>9797.103000</td>\n",
              "      <td>645.249000</td>\n",
              "      <td>645.249000</td>\n",
              "      <td>1115.797000</td>\n",
              "      <td>288.0</td>\n",
              "      <td>789.094000</td>\n",
              "      <td>4.560000</td>\n",
              "      <td>9.980000e-01</td>\n",
              "      <td>23.140000</td>\n",
              "      <td>1.052000</td>\n",
              "      <td>92.556000</td>\n",
              "      <td>1.832000</td>\n",
              "      <td>1.000000</td>\n",
              "      <td>1.000000</td>\n",
              "    </tr>\n",
              "  </tbody>\n",
              "</table>\n",
              "</div>"
            ],
            "text/plain": [
              "                 lp  ...  GT Turbine decay state coefficient\n",
              "count  11933.000000  ...                        11933.000000\n",
              "mean       5.167004  ...                            0.987501\n",
              "std        2.626239  ...                            0.007500\n",
              "min        1.138000  ...                            0.975000\n",
              "25%        3.144000  ...                            0.981000\n",
              "50%        5.140000  ...                            0.988000\n",
              "75%        7.148000  ...                            0.994000\n",
              "max        9.300000  ...                            1.000000\n",
              "\n",
              "[8 rows x 18 columns]"
            ]
          },
          "metadata": {},
          "execution_count": 6
        }
      ]
    },
    {
      "cell_type": "code",
      "metadata": {
        "colab": {
          "base_uri": "https://localhost:8080/"
        },
        "id": "1R12KthkfW56",
        "outputId": "cc6305eb-1597-4cbe-c33f-9ac1046a40b6"
      },
      "source": [
        "type(result)"
      ],
      "execution_count": 7,
      "outputs": [
        {
          "output_type": "execute_result",
          "data": {
            "text/plain": [
              "pandas.core.frame.DataFrame"
            ]
          },
          "metadata": {},
          "execution_count": 7
        }
      ]
    },
    {
      "cell_type": "code",
      "metadata": {
        "colab": {
          "base_uri": "https://localhost:8080/"
        },
        "id": "LFh6N3egfdUc",
        "outputId": "4ff5dbfe-77e2-490f-c8d1-b873a987de24"
      },
      "source": [
        "result.isnull().sum()"
      ],
      "execution_count": 8,
      "outputs": [
        {
          "output_type": "execute_result",
          "data": {
            "text/plain": [
              "lp                                       0\n",
              "v [knots]                                0\n",
              "GTT [kN m]                               0\n",
              "GTn [rpm]                                0\n",
              "GGn [rpm]                                0\n",
              "Ts [kN]                                  0\n",
              "Tp [kN]                                  0\n",
              "T48 [C]                                  0\n",
              "T1 [C]                                   0\n",
              "T2 [C]                                   0\n",
              "P48 [bar]                                0\n",
              "P1 [bar]                                 0\n",
              "P2 [bar]                                 0\n",
              "Pexh [bar]                               0\n",
              "TIC [%]                                  0\n",
              "mf [kg/s]                                0\n",
              "GT Compressor decay state coefficient    0\n",
              "GT Turbine decay state coefficient       0\n",
              "dtype: int64"
            ]
          },
          "metadata": {},
          "execution_count": 8
        }
      ]
    },
    {
      "cell_type": "markdown",
      "metadata": {
        "id": "KmtW7taaG2Zt"
      },
      "source": [
        "## **Graphical Representation**"
      ]
    },
    {
      "cell_type": "code",
      "metadata": {
        "colab": {
          "base_uri": "https://localhost:8080/",
          "height": 582
        },
        "id": "_5CPdpUCfeuF",
        "outputId": "054793fc-d048-4f0d-d3b7-e1083a8e891b"
      },
      "source": [
        "import matplotlib.pyplot as plt \n",
        "import seaborn as sns\n",
        "sns.set(rc={'figure.figsize':(11.7,8.27)})\n",
        "sns.distplot(result['GTT [kN m]'], bins=30)\n",
        "plt.show()"
      ],
      "execution_count": 9,
      "outputs": [
        {
          "output_type": "stream",
          "name": "stderr",
          "text": [
            "/usr/local/lib/python3.7/dist-packages/seaborn/distributions.py:2619: FutureWarning: `distplot` is a deprecated function and will be removed in a future version. Please adapt your code to use either `displot` (a figure-level function with similar flexibility) or `histplot` (an axes-level function for histograms).\n",
            "  warnings.warn(msg, FutureWarning)\n"
          ]
        },
        {
          "output_type": "display_data",
          "data": {
            "image/png": "[encoded data removed]",
            "text/plain": [
              "<Figure size 842.4x595.44 with 1 Axes>"
            ]
          },
          "metadata": {}
        }
      ]
    },
    {
      "cell_type": "code",
      "metadata": {
        "colab": {
          "base_uri": "https://localhost:8080/",
          "height": 570
        },
        "id": "Qxwa1Yrpfz7p",
        "outputId": "fbc8b60a-97c7-4867-dea3-b86b0cfadc54"
      },
      "source": [
        "sns.set(rc={'figure.figsize':(11.7,8.27)})\n",
        "sns.distplot(result['GTn [rpm]'], bins=30)\n",
        "plt.show()"
      ],
      "execution_count": 10,
      "outputs": [
        {
          "output_type": "stream",
          "name": "stderr",
          "text": [
            "/usr/local/lib/python3.7/dist-packages/seaborn/distributions.py:2619: FutureWarning: `distplot` is a deprecated function and will be removed in a future version. Please adapt your code to use either `displot` (a figure-level function with similar flexibility) or `histplot` (an axes-level function for histograms).\n",
            "  warnings.warn(msg, FutureWarning)\n"
          ]
        },
        {
          "output_type": "display_data",
          "data": {
            "image/png": "[encoded data removed]",
            "text/plain": [
              "<Figure size 842.4x595.44 with 1 Axes>"
            ]
          },
          "metadata": {}
        }
      ]
    },
    {
      "cell_type": "code",
      "metadata": {
        "colab": {
          "base_uri": "https://localhost:8080/",
          "height": 570
        },
        "id": "SMSdWhYlIYq6",
        "outputId": "064e3357-065f-4528-ff16-f2918b189d7b"
      },
      "source": [
        "sns.set(rc={'figure.figsize':(11.7,8.27)})\n",
        "sns.distplot(result['T48 [C]'], bins=30)\n",
        "plt.show()"
      ],
      "execution_count": 11,
      "outputs": [
        {
          "output_type": "stream",
          "name": "stderr",
          "text": [
            "/usr/local/lib/python3.7/dist-packages/seaborn/distributions.py:2619: FutureWarning: `distplot` is a deprecated function and will be removed in a future version. Please adapt your code to use either `displot` (a figure-level function with similar flexibility) or `histplot` (an axes-level function for histograms).\n",
            "  warnings.warn(msg, FutureWarning)\n"
          ]
        },
        {
          "output_type": "display_data",
          "data": {
            "image/png": "[encoded data removed]",
            "text/plain": [
              "<Figure size 842.4x595.44 with 1 Axes>"
            ]
          },
          "metadata": {}
        }
      ]
    },
    {
      "cell_type": "code",
      "metadata": {
        "colab": {
          "base_uri": "https://localhost:8080/",
          "height": 570
        },
        "id": "BxoJnFkqpC1t",
        "outputId": "9b8b0816-edb1-4744-f39f-b030a954ff52"
      },
      "source": [
        "sns.distplot(result['GT Compressor decay state coefficient'], bins = 30)\n",
        "plt.show()"
      ],
      "execution_count": 12,
      "outputs": [
        {
          "output_type": "stream",
          "name": "stderr",
          "text": [
            "/usr/local/lib/python3.7/dist-packages/seaborn/distributions.py:2619: FutureWarning: `distplot` is a deprecated function and will be removed in a future version. Please adapt your code to use either `displot` (a figure-level function with similar flexibility) or `histplot` (an axes-level function for histograms).\n",
            "  warnings.warn(msg, FutureWarning)\n"
          ]
        },
        {
          "output_type": "display_data",
          "data": {
            "image/png": "[encoded data removed]",
            "text/plain": [
              "<Figure size 842.4x595.44 with 1 Axes>"
            ]
          },
          "metadata": {}
        }
      ]
    },
    {
      "cell_type": "code",
      "metadata": {
        "colab": {
          "base_uri": "https://localhost:8080/",
          "height": 365
        },
        "id": "EyFlNUs2qYOQ",
        "outputId": "53f8d0ff-b5d7-4426-8239-9226c1226228"
      },
      "source": [
        "sns.relplot(data=result, x=result.index, y='GT Compressor decay state coefficient')\n",
        "plt.show()"
      ],
      "execution_count": 13,
      "outputs": [
        {
          "output_type": "display_data",
          "data": {
            "image/png": "[encoded data removed]",
            "text/plain": [
              "<Figure size 360x360 with 1 Axes>"
            ]
          },
          "metadata": {}
        }
      ]
    },
    {
      "cell_type": "code",
      "metadata": {
        "id": "VOmz5yZ-gLMB"
      },
      "source": [
        "result.drop(['T1 [C]', 'P1 [bar]'], axis=1, inplace =True)"
      ],
      "execution_count": 14,
      "outputs": []
    },
    {
      "cell_type": "code",
      "metadata": {
        "id": "Xpkeo5_0f38j"
      },
      "source": [
        "correlation_matrix = result.corr().round(2)"
      ],
      "execution_count": 15,
      "outputs": []
    },
    {
      "cell_type": "code",
      "metadata": {
        "colab": {
          "base_uri": "https://localhost:8080/",
          "height": 592
        },
        "id": "2qEagXbSf8uS",
        "outputId": "d5c9046f-9385-4c9a-8361-dc96c1f717ea"
      },
      "source": [
        "correlation_matrix\n"
      ],
      "execution_count": 16,
      "outputs": [
        {
          "output_type": "execute_result",
          "data": {
            "text/html": [
              "<div>\n",
              "<style scoped>\n",
              "    .dataframe tbody tr th:only-of-type {\n",
              "        vertical-align: middle;\n",
              "    }\n",
              "\n",
              "    .dataframe tbody tr th {\n",
              "        vertical-align: top;\n",
              "    }\n",
              "\n",
              "    .dataframe thead th {\n",
              "        text-align: right;\n",
              "    }\n",
              "</style>\n",
              "<table border=\"1\" class=\"dataframe\">\n",
              "  <thead>\n",
              "    <tr style=\"text-align: right;\">\n",
              "      <th></th>\n",
              "      <th>lp</th>\n",
              "      <th>v [knots]</th>\n",
              "      <th>GTT [kN m]</th>\n",
              "      <th>GTn [rpm]</th>\n",
              "      <th>GGn [rpm]</th>\n",
              "      <th>Ts [kN]</th>\n",
              "      <th>Tp [kN]</th>\n",
              "      <th>T48 [C]</th>\n",
              "      <th>T2 [C]</th>\n",
              "      <th>P48 [bar]</th>\n",
              "      <th>P2 [bar]</th>\n",
              "      <th>Pexh [bar]</th>\n",
              "      <th>TIC [%]</th>\n",
              "      <th>mf [kg/s]</th>\n",
              "      <th>GT Compressor decay state coefficient</th>\n",
              "      <th>GT Turbine decay state coefficient</th>\n",
              "    </tr>\n",
              "  </thead>\n",
              "  <tbody>\n",
              "    <tr>\n",
              "      <th>lp</th>\n",
              "      <td>1.00</td>\n",
              "      <td>1.00</td>\n",
              "      <td>0.96</td>\n",
              "      <td>0.96</td>\n",
              "      <td>0.99</td>\n",
              "      <td>0.96</td>\n",
              "      <td>0.96</td>\n",
              "      <td>0.96</td>\n",
              "      <td>0.98</td>\n",
              "      <td>0.96</td>\n",
              "      <td>0.97</td>\n",
              "      <td>0.95</td>\n",
              "      <td>0.91</td>\n",
              "      <td>0.93</td>\n",
              "      <td>-0.00</td>\n",
              "      <td>-0.00</td>\n",
              "    </tr>\n",
              "    <tr>\n",
              "      <th>v [knots]</th>\n",
              "      <td>1.00</td>\n",
              "      <td>1.00</td>\n",
              "      <td>0.96</td>\n",
              "      <td>0.96</td>\n",
              "      <td>0.99</td>\n",
              "      <td>0.96</td>\n",
              "      <td>0.96</td>\n",
              "      <td>0.96</td>\n",
              "      <td>0.98</td>\n",
              "      <td>0.96</td>\n",
              "      <td>0.97</td>\n",
              "      <td>0.95</td>\n",
              "      <td>0.91</td>\n",
              "      <td>0.93</td>\n",
              "      <td>-0.00</td>\n",
              "      <td>-0.00</td>\n",
              "    </tr>\n",
              "    <tr>\n",
              "      <th>GTT [kN m]</th>\n",
              "      <td>0.96</td>\n",
              "      <td>0.96</td>\n",
              "      <td>1.00</td>\n",
              "      <td>0.99</td>\n",
              "      <td>0.93</td>\n",
              "      <td>1.00</td>\n",
              "      <td>1.00</td>\n",
              "      <td>0.99</td>\n",
              "      <td>0.99</td>\n",
              "      <td>1.00</td>\n",
              "      <td>1.00</td>\n",
              "      <td>1.00</td>\n",
              "      <td>0.98</td>\n",
              "      <td>1.00</td>\n",
              "      <td>0.00</td>\n",
              "      <td>0.00</td>\n",
              "    </tr>\n",
              "    <tr>\n",
              "      <th>GTn [rpm]</th>\n",
              "      <td>0.96</td>\n",
              "      <td>0.96</td>\n",
              "      <td>0.99</td>\n",
              "      <td>1.00</td>\n",
              "      <td>0.94</td>\n",
              "      <td>0.99</td>\n",
              "      <td>0.99</td>\n",
              "      <td>0.98</td>\n",
              "      <td>0.99</td>\n",
              "      <td>1.00</td>\n",
              "      <td>1.00</td>\n",
              "      <td>0.99</td>\n",
              "      <td>0.96</td>\n",
              "      <td>0.98</td>\n",
              "      <td>0.00</td>\n",
              "      <td>-0.00</td>\n",
              "    </tr>\n",
              "    <tr>\n",
              "      <th>GGn [rpm]</th>\n",
              "      <td>0.99</td>\n",
              "      <td>0.99</td>\n",
              "      <td>0.93</td>\n",
              "      <td>0.94</td>\n",
              "      <td>1.00</td>\n",
              "      <td>0.93</td>\n",
              "      <td>0.93</td>\n",
              "      <td>0.94</td>\n",
              "      <td>0.97</td>\n",
              "      <td>0.94</td>\n",
              "      <td>0.95</td>\n",
              "      <td>0.92</td>\n",
              "      <td>0.88</td>\n",
              "      <td>0.90</td>\n",
              "      <td>-0.02</td>\n",
              "      <td>0.01</td>\n",
              "    </tr>\n",
              "    <tr>\n",
              "      <th>Ts [kN]</th>\n",
              "      <td>0.96</td>\n",
              "      <td>0.96</td>\n",
              "      <td>1.00</td>\n",
              "      <td>0.99</td>\n",
              "      <td>0.93</td>\n",
              "      <td>1.00</td>\n",
              "      <td>1.00</td>\n",
              "      <td>0.99</td>\n",
              "      <td>0.99</td>\n",
              "      <td>1.00</td>\n",
              "      <td>1.00</td>\n",
              "      <td>1.00</td>\n",
              "      <td>0.98</td>\n",
              "      <td>0.99</td>\n",
              "      <td>0.00</td>\n",
              "      <td>-0.00</td>\n",
              "    </tr>\n",
              "    <tr>\n",
              "      <th>Tp [kN]</th>\n",
              "      <td>0.96</td>\n",
              "      <td>0.96</td>\n",
              "      <td>1.00</td>\n",
              "      <td>0.99</td>\n",
              "      <td>0.93</td>\n",
              "      <td>1.00</td>\n",
              "      <td>1.00</td>\n",
              "      <td>0.99</td>\n",
              "      <td>0.99</td>\n",
              "      <td>1.00</td>\n",
              "      <td>1.00</td>\n",
              "      <td>1.00</td>\n",
              "      <td>0.98</td>\n",
              "      <td>0.99</td>\n",
              "      <td>0.00</td>\n",
              "      <td>-0.00</td>\n",
              "    </tr>\n",
              "    <tr>\n",
              "      <th>T48 [C]</th>\n",
              "      <td>0.96</td>\n",
              "      <td>0.96</td>\n",
              "      <td>0.99</td>\n",
              "      <td>0.98</td>\n",
              "      <td>0.94</td>\n",
              "      <td>0.99</td>\n",
              "      <td>0.99</td>\n",
              "      <td>1.00</td>\n",
              "      <td>0.99</td>\n",
              "      <td>0.99</td>\n",
              "      <td>0.99</td>\n",
              "      <td>0.98</td>\n",
              "      <td>0.97</td>\n",
              "      <td>0.99</td>\n",
              "      <td>-0.04</td>\n",
              "      <td>-0.04</td>\n",
              "    </tr>\n",
              "    <tr>\n",
              "      <th>T2 [C]</th>\n",
              "      <td>0.98</td>\n",
              "      <td>0.98</td>\n",
              "      <td>0.99</td>\n",
              "      <td>0.99</td>\n",
              "      <td>0.97</td>\n",
              "      <td>0.99</td>\n",
              "      <td>0.99</td>\n",
              "      <td>0.99</td>\n",
              "      <td>1.00</td>\n",
              "      <td>0.99</td>\n",
              "      <td>0.99</td>\n",
              "      <td>0.98</td>\n",
              "      <td>0.96</td>\n",
              "      <td>0.98</td>\n",
              "      <td>-0.05</td>\n",
              "      <td>-0.02</td>\n",
              "    </tr>\n",
              "    <tr>\n",
              "      <th>P48 [bar]</th>\n",
              "      <td>0.96</td>\n",
              "      <td>0.96</td>\n",
              "      <td>1.00</td>\n",
              "      <td>1.00</td>\n",
              "      <td>0.94</td>\n",
              "      <td>1.00</td>\n",
              "      <td>1.00</td>\n",
              "      <td>0.99</td>\n",
              "      <td>0.99</td>\n",
              "      <td>1.00</td>\n",
              "      <td>1.00</td>\n",
              "      <td>1.00</td>\n",
              "      <td>0.98</td>\n",
              "      <td>0.99</td>\n",
              "      <td>0.01</td>\n",
              "      <td>-0.00</td>\n",
              "    </tr>\n",
              "    <tr>\n",
              "      <th>P2 [bar]</th>\n",
              "      <td>0.97</td>\n",
              "      <td>0.97</td>\n",
              "      <td>1.00</td>\n",
              "      <td>1.00</td>\n",
              "      <td>0.95</td>\n",
              "      <td>1.00</td>\n",
              "      <td>1.00</td>\n",
              "      <td>0.99</td>\n",
              "      <td>0.99</td>\n",
              "      <td>1.00</td>\n",
              "      <td>1.00</td>\n",
              "      <td>1.00</td>\n",
              "      <td>0.97</td>\n",
              "      <td>0.99</td>\n",
              "      <td>0.01</td>\n",
              "      <td>-0.02</td>\n",
              "    </tr>\n",
              "    <tr>\n",
              "      <th>Pexh [bar]</th>\n",
              "      <td>0.95</td>\n",
              "      <td>0.95</td>\n",
              "      <td>1.00</td>\n",
              "      <td>0.99</td>\n",
              "      <td>0.92</td>\n",
              "      <td>1.00</td>\n",
              "      <td>1.00</td>\n",
              "      <td>0.98</td>\n",
              "      <td>0.98</td>\n",
              "      <td>1.00</td>\n",
              "      <td>1.00</td>\n",
              "      <td>1.00</td>\n",
              "      <td>0.97</td>\n",
              "      <td>0.99</td>\n",
              "      <td>0.04</td>\n",
              "      <td>0.01</td>\n",
              "    </tr>\n",
              "    <tr>\n",
              "      <th>TIC [%]</th>\n",
              "      <td>0.91</td>\n",
              "      <td>0.91</td>\n",
              "      <td>0.98</td>\n",
              "      <td>0.96</td>\n",
              "      <td>0.88</td>\n",
              "      <td>0.98</td>\n",
              "      <td>0.98</td>\n",
              "      <td>0.97</td>\n",
              "      <td>0.96</td>\n",
              "      <td>0.98</td>\n",
              "      <td>0.97</td>\n",
              "      <td>0.97</td>\n",
              "      <td>1.00</td>\n",
              "      <td>0.99</td>\n",
              "      <td>-0.03</td>\n",
              "      <td>-0.02</td>\n",
              "    </tr>\n",
              "    <tr>\n",
              "      <th>mf [kg/s]</th>\n",
              "      <td>0.93</td>\n",
              "      <td>0.93</td>\n",
              "      <td>1.00</td>\n",
              "      <td>0.98</td>\n",
              "      <td>0.90</td>\n",
              "      <td>0.99</td>\n",
              "      <td>0.99</td>\n",
              "      <td>0.99</td>\n",
              "      <td>0.98</td>\n",
              "      <td>0.99</td>\n",
              "      <td>0.99</td>\n",
              "      <td>0.99</td>\n",
              "      <td>0.99</td>\n",
              "      <td>1.00</td>\n",
              "      <td>-0.01</td>\n",
              "      <td>-0.02</td>\n",
              "    </tr>\n",
              "    <tr>\n",
              "      <th>GT Compressor decay state coefficient</th>\n",
              "      <td>-0.00</td>\n",
              "      <td>-0.00</td>\n",
              "      <td>0.00</td>\n",
              "      <td>0.00</td>\n",
              "      <td>-0.02</td>\n",
              "      <td>0.00</td>\n",
              "      <td>0.00</td>\n",
              "      <td>-0.04</td>\n",
              "      <td>-0.05</td>\n",
              "      <td>0.01</td>\n",
              "      <td>0.01</td>\n",
              "      <td>0.04</td>\n",
              "      <td>-0.03</td>\n",
              "      <td>-0.01</td>\n",
              "      <td>1.00</td>\n",
              "      <td>-0.00</td>\n",
              "    </tr>\n",
              "    <tr>\n",
              "      <th>GT Turbine decay state coefficient</th>\n",
              "      <td>-0.00</td>\n",
              "      <td>-0.00</td>\n",
              "      <td>0.00</td>\n",
              "      <td>-0.00</td>\n",
              "      <td>0.01</td>\n",
              "      <td>-0.00</td>\n",
              "      <td>-0.00</td>\n",
              "      <td>-0.04</td>\n",
              "      <td>-0.02</td>\n",
              "      <td>-0.00</td>\n",
              "      <td>-0.02</td>\n",
              "      <td>0.01</td>\n",
              "      <td>-0.02</td>\n",
              "      <td>-0.02</td>\n",
              "      <td>-0.00</td>\n",
              "      <td>1.00</td>\n",
              "    </tr>\n",
              "  </tbody>\n",
              "</table>\n",
              "</div>"
            ],
            "text/plain": [
              "                                         lp  ...  GT Turbine decay state coefficient\n",
              "lp                                     1.00  ...                               -0.00\n",
              "v [knots]                              1.00  ...                               -0.00\n",
              "GTT [kN m]                             0.96  ...                                0.00\n",
              "GTn [rpm]                              0.96  ...                               -0.00\n",
              "GGn [rpm]                              0.99  ...                                0.01\n",
              "Ts [kN]                                0.96  ...                               -0.00\n",
              "Tp [kN]                                0.96  ...                               -0.00\n",
              "T48 [C]                                0.96  ...                               -0.04\n",
              "T2 [C]                                 0.98  ...                               -0.02\n",
              "P48 [bar]                              0.96  ...                               -0.00\n",
              "P2 [bar]                               0.97  ...                               -0.02\n",
              "Pexh [bar]                             0.95  ...                                0.01\n",
              "TIC [%]                                0.91  ...                               -0.02\n",
              "mf [kg/s]                              0.93  ...                               -0.02\n",
              "GT Compressor decay state coefficient -0.00  ...                               -0.00\n",
              "GT Turbine decay state coefficient    -0.00  ...                                1.00\n",
              "\n",
              "[16 rows x 16 columns]"
            ]
          },
          "metadata": {},
          "execution_count": 16
        }
      ]
    },
    {
      "cell_type": "code",
      "metadata": {
        "colab": {
          "base_uri": "https://localhost:8080/",
          "height": 726
        },
        "id": "L-fkYqtRgFj5",
        "outputId": "f8565f23-ff2f-4dc4-c1c8-f225b5942758"
      },
      "source": [
        "sns.heatmap(data=correlation_matrix, annot=True)"
      ],
      "execution_count": 17,
      "outputs": [
        {
          "output_type": "execute_result",
          "data": {
            "text/plain": [
              "<matplotlib.axes._subplots.AxesSubplot at 0x7fc2fad47c10>"
            ]
          },
          "metadata": {},
          "execution_count": 17
        },
        {
          "output_type": "display_data",
          "data": {
            "image/png": "[encoded data removed]",
            "text/plain": [
              "<Figure size 842.4x595.44 with 2 Axes>"
            ]
          },
          "metadata": {}
        }
      ]
    },
    {
      "cell_type": "code",
      "metadata": {
        "id": "io01AVsA0AVL"
      },
      "source": [
        ""
      ],
      "execution_count": 17,
      "outputs": []
    },
    {
      "cell_type": "markdown",
      "metadata": {
        "id": "_reWwE2oG_C8"
      },
      "source": [
        "#**Scaling attributes such that it has mean of 0 and standard deviation of 1**"
      ]
    },
    {
      "cell_type": "code",
      "metadata": {
        "id": "rhmMUNV8gWmt"
      },
      "source": [
        "X = result[[\"lp\", \"v [knots]\", \"GTT [kN m]\", \"GTn [rpm]\", \"GGn [rpm]\",\"Ts [kN]\", \"Tp [kN]\", \"T48 [C]\", \"T2 [C]\", \"P48 [bar]\", \"P2 [bar]\",\"TIC [%]\"]]\n",
        "Y = result['GT Compressor decay state coefficient']"
      ],
      "execution_count": 18,
      "outputs": []
    },
    {
      "cell_type": "code",
      "metadata": {
        "id": "Hortd4a1gcfo"
      },
      "source": [
        "result['GTT [kN m]'] = (result['GTT [kN m]']-result['GTT [kN m]'].mean())/result['GTT [kN m]'].std()"
      ],
      "execution_count": 19,
      "outputs": []
    },
    {
      "cell_type": "code",
      "metadata": {
        "id": "x1HUEWCqghKI"
      },
      "source": [
        "result['GTn [rpm]'] = (result['GTn [rpm]']-result['GTn [rpm]'].mean())/result['GTn [rpm]'].std()"
      ],
      "execution_count": 20,
      "outputs": []
    },
    {
      "cell_type": "code",
      "metadata": {
        "id": "hM8-ckEiglQt"
      },
      "source": [
        "result['GGn [rpm]'] = (result['GGn [rpm]']-result['GGn [rpm]'].mean())/result['GGn [rpm]'].std()"
      ],
      "execution_count": 21,
      "outputs": []
    },
    {
      "cell_type": "code",
      "metadata": {
        "id": "kdgZXpcegpEF"
      },
      "source": [
        "result['Ts [kN]'] = (result['Ts [kN]']-result['Ts [kN]'].mean())/result['Ts [kN]'].std()"
      ],
      "execution_count": 22,
      "outputs": []
    },
    {
      "cell_type": "code",
      "metadata": {
        "id": "Oi1fEwKygw5X"
      },
      "source": [
        "result['Tp [kN]'] = (result['Tp [kN]']-result['Tp [kN]'].mean())/result['Tp [kN]'].std()"
      ],
      "execution_count": 23,
      "outputs": []
    },
    {
      "cell_type": "code",
      "metadata": {
        "id": "dYu89XaXgxM8"
      },
      "source": [
        "result['T48 [C]'] = (result['T48 [C]']-result['T48 [C]'].mean())/result['T48 [C]'].std()"
      ],
      "execution_count": 24,
      "outputs": []
    },
    {
      "cell_type": "code",
      "metadata": {
        "id": "5tLLCclAhF5X"
      },
      "source": [
        "result['TIC [%]'] = (result['TIC [%]']-result['TIC [%]'].mean())/result['TIC [%]'].std()"
      ],
      "execution_count": 25,
      "outputs": []
    },
    {
      "cell_type": "code",
      "metadata": {
        "id": "0_SJ7r37gxVD"
      },
      "source": [
        "result['T2 [C]'] = (result['T2 [C]']-result['T2 [C]'].mean())/result['T2 [C]'].std()"
      ],
      "execution_count": 26,
      "outputs": []
    },
    {
      "cell_type": "code",
      "metadata": {
        "id": "_HZm-Wfxg_GD"
      },
      "source": [
        "result['P48 [bar]'] = (result['P48 [bar]']-result['P48 [bar]'].mean())/result['P48 [bar]'].std()"
      ],
      "execution_count": 27,
      "outputs": []
    },
    {
      "cell_type": "code",
      "metadata": {
        "id": "zm1mkXyog_JX"
      },
      "source": [
        "result['P2 [bar]'] = (result['P2 [bar]']-result['P2 [bar]'].mean())/result['P2 [bar]'].std()"
      ],
      "execution_count": 28,
      "outputs": []
    },
    {
      "cell_type": "code",
      "metadata": {
        "colab": {
          "base_uri": "https://localhost:8080/",
          "height": 528
        },
        "id": "fWLIG3KlhMQJ",
        "outputId": "c3df9e4a-fc01-410e-9ed3-a62b49342de4"
      },
      "source": [
        "result.head(15)"
      ],
      "execution_count": 29,
      "outputs": [
        {
          "output_type": "execute_result",
          "data": {
            "text/html": [
              "<div>\n",
              "<style scoped>\n",
              "    .dataframe tbody tr th:only-of-type {\n",
              "        vertical-align: middle;\n",
              "    }\n",
              "\n",
              "    .dataframe tbody tr th {\n",
              "        vertical-align: top;\n",
              "    }\n",
              "\n",
              "    .dataframe thead th {\n",
              "        text-align: right;\n",
              "    }\n",
              "</style>\n",
              "<table border=\"1\" class=\"dataframe\">\n",
              "  <thead>\n",
              "    <tr style=\"text-align: right;\">\n",
              "      <th></th>\n",
              "      <th>lp</th>\n",
              "      <th>v [knots]</th>\n",
              "      <th>GTT [kN m]</th>\n",
              "      <th>GTn [rpm]</th>\n",
              "      <th>GGn [rpm]</th>\n",
              "      <th>Ts [kN]</th>\n",
              "      <th>Tp [kN]</th>\n",
              "      <th>T48 [C]</th>\n",
              "      <th>T2 [C]</th>\n",
              "      <th>P48 [bar]</th>\n",
              "      <th>P2 [bar]</th>\n",
              "      <th>Pexh [bar]</th>\n",
              "      <th>TIC [%]</th>\n",
              "      <th>mf [kg/s]</th>\n",
              "      <th>GT Compressor decay state coefficient</th>\n",
              "      <th>GT Turbine decay state coefficient</th>\n",
              "    </tr>\n",
              "  </thead>\n",
              "  <tbody>\n",
              "    <tr>\n",
              "      <th>0</th>\n",
              "      <td>2.088</td>\n",
              "      <td>6.0</td>\n",
              "      <td>-0.916084</td>\n",
              "      <td>-0.982052</td>\n",
              "      <td>-1.257804</td>\n",
              "      <td>-0.993296</td>\n",
              "      <td>-0.993296</td>\n",
              "      <td>-0.576479</td>\n",
              "      <td>-0.888429</td>\n",
              "      <td>-0.942212</td>\n",
              "      <td>-0.939727</td>\n",
              "      <td>1.019</td>\n",
              "      <td>-0.889602</td>\n",
              "      <td>0.287</td>\n",
              "      <td>0.95</td>\n",
              "      <td>0.975</td>\n",
              "    </tr>\n",
              "    <tr>\n",
              "      <th>1</th>\n",
              "      <td>3.144</td>\n",
              "      <td>9.0</td>\n",
              "      <td>-0.852013</td>\n",
              "      <td>-0.968370</td>\n",
              "      <td>-0.998160</td>\n",
              "      <td>-0.832923</td>\n",
              "      <td>-0.832923</td>\n",
              "      <td>-0.745760</td>\n",
              "      <td>-0.806845</td>\n",
              "      <td>-0.888743</td>\n",
              "      <td>-0.885018</td>\n",
              "      <td>1.020</td>\n",
              "      <td>-0.795528</td>\n",
              "      <td>0.259</td>\n",
              "      <td>0.95</td>\n",
              "      <td>0.975</td>\n",
              "    </tr>\n",
              "    <tr>\n",
              "      <th>2</th>\n",
              "      <td>4.161</td>\n",
              "      <td>12.0</td>\n",
              "      <td>-0.565526</td>\n",
              "      <td>-0.760759</td>\n",
              "      <td>-0.374283</td>\n",
              "      <td>-0.566501</td>\n",
              "      <td>-0.566501</td>\n",
              "      <td>-0.426367</td>\n",
              "      <td>-0.445448</td>\n",
              "      <td>-0.640761</td>\n",
              "      <td>-0.616533</td>\n",
              "      <td>1.022</td>\n",
              "      <td>-0.601149</td>\n",
              "      <td>0.358</td>\n",
              "      <td>0.95</td>\n",
              "      <td>0.975</td>\n",
              "    </tr>\n",
              "    <tr>\n",
              "      <th>3</th>\n",
              "      <td>5.140</td>\n",
              "      <td>15.0</td>\n",
              "      <td>-0.253444</td>\n",
              "      <td>-0.273927</td>\n",
              "      <td>0.269137</td>\n",
              "      <td>-0.259599</td>\n",
              "      <td>-0.259599</td>\n",
              "      <td>-0.023172</td>\n",
              "      <td>-0.007999</td>\n",
              "      <td>-0.253576</td>\n",
              "      <td>-0.206217</td>\n",
              "      <td>1.026</td>\n",
              "      <td>-0.281351</td>\n",
              "      <td>0.522</td>\n",
              "      <td>0.95</td>\n",
              "      <td>0.975</td>\n",
              "    </tr>\n",
              "    <tr>\n",
              "      <th>4</th>\n",
              "      <td>6.175</td>\n",
              "      <td>18.0</td>\n",
              "      <td>0.114816</td>\n",
              "      <td>0.220970</td>\n",
              "      <td>0.574820</td>\n",
              "      <td>0.094386</td>\n",
              "      <td>0.094386</td>\n",
              "      <td>0.373788</td>\n",
              "      <td>0.415194</td>\n",
              "      <td>0.136374</td>\n",
              "      <td>0.198290</td>\n",
              "      <td>1.030</td>\n",
              "      <td>0.081904</td>\n",
              "      <td>0.708</td>\n",
              "      <td>0.95</td>\n",
              "      <td>0.975</td>\n",
              "    </tr>\n",
              "    <tr>\n",
              "      <th>5</th>\n",
              "      <td>7.148</td>\n",
              "      <td>21.0</td>\n",
              "      <td>0.529724</td>\n",
              "      <td>0.699836</td>\n",
              "      <td>0.853457</td>\n",
              "      <td>0.522323</td>\n",
              "      <td>0.522323</td>\n",
              "      <td>0.686525</td>\n",
              "      <td>0.739342</td>\n",
              "      <td>0.562276</td>\n",
              "      <td>0.633524</td>\n",
              "      <td>1.035</td>\n",
              "      <td>0.473564</td>\n",
              "      <td>0.908</td>\n",
              "      <td>0.95</td>\n",
              "      <td>0.975</td>\n",
              "    </tr>\n",
              "    <tr>\n",
              "      <th>6</th>\n",
              "      <td>8.206</td>\n",
              "      <td>24.0</td>\n",
              "      <td>1.072190</td>\n",
              "      <td>1.228817</td>\n",
              "      <td>1.024022</td>\n",
              "      <td>1.050578</td>\n",
              "      <td>1.050578</td>\n",
              "      <td>1.247215</td>\n",
              "      <td>1.314736</td>\n",
              "      <td>1.127381</td>\n",
              "      <td>1.186795</td>\n",
              "      <td>1.040</td>\n",
              "      <td>1.114360</td>\n",
              "      <td>1.236</td>\n",
              "      <td>0.95</td>\n",
              "      <td>0.975</td>\n",
              "    </tr>\n",
              "    <tr>\n",
              "      <th>7</th>\n",
              "      <td>9.300</td>\n",
              "      <td>27.0</td>\n",
              "      <td>2.054959</td>\n",
              "      <td>1.839648</td>\n",
              "      <td>1.445518</td>\n",
              "      <td>2.082608</td>\n",
              "      <td>2.082608</td>\n",
              "      <td>2.189663</td>\n",
              "      <td>1.965921</td>\n",
              "      <td>1.977343</td>\n",
              "      <td>1.969767</td>\n",
              "      <td>1.049</td>\n",
              "      <td>2.279781</td>\n",
              "      <td>1.832</td>\n",
              "      <td>0.95</td>\n",
              "      <td>0.975</td>\n",
              "    </tr>\n",
              "    <tr>\n",
              "      <th>8</th>\n",
              "      <td>1.138</td>\n",
              "      <td>3.0</td>\n",
              "      <td>-1.213187</td>\n",
              "      <td>-1.008910</td>\n",
              "      <td>-1.390266</td>\n",
              "      <td>-1.094491</td>\n",
              "      <td>-1.094491</td>\n",
              "      <td>-1.563316</td>\n",
              "      <td>-1.310493</td>\n",
              "      <td>-1.155163</td>\n",
              "      <td>-1.186853</td>\n",
              "      <td>1.019</td>\n",
              "      <td>-1.151818</td>\n",
              "      <td>0.079</td>\n",
              "      <td>0.95</td>\n",
              "      <td>0.976</td>\n",
              "    </tr>\n",
              "    <tr>\n",
              "      <th>9</th>\n",
              "      <td>2.088</td>\n",
              "      <td>6.0</td>\n",
              "      <td>-0.915678</td>\n",
              "      <td>-0.987511</td>\n",
              "      <td>-1.257832</td>\n",
              "      <td>-0.997187</td>\n",
              "      <td>-0.997187</td>\n",
              "      <td>-0.573261</td>\n",
              "      <td>-0.891428</td>\n",
              "      <td>-0.943133</td>\n",
              "      <td>-0.941600</td>\n",
              "      <td>1.019</td>\n",
              "      <td>-0.807176</td>\n",
              "      <td>0.289</td>\n",
              "      <td>0.95</td>\n",
              "      <td>0.976</td>\n",
              "    </tr>\n",
              "    <tr>\n",
              "      <th>10</th>\n",
              "      <td>3.144</td>\n",
              "      <td>9.0</td>\n",
              "      <td>-0.852010</td>\n",
              "      <td>-0.968368</td>\n",
              "      <td>-0.995791</td>\n",
              "      <td>-0.832948</td>\n",
              "      <td>-0.832948</td>\n",
              "      <td>-0.750557</td>\n",
              "      <td>-0.808909</td>\n",
              "      <td>-0.888743</td>\n",
              "      <td>-0.886329</td>\n",
              "      <td>1.020</td>\n",
              "      <td>-0.796844</td>\n",
              "      <td>0.258</td>\n",
              "      <td>0.95</td>\n",
              "      <td>0.976</td>\n",
              "    </tr>\n",
              "    <tr>\n",
              "      <th>11</th>\n",
              "      <td>4.161</td>\n",
              "      <td>12.0</td>\n",
              "      <td>-0.565519</td>\n",
              "      <td>-0.760757</td>\n",
              "      <td>-0.372436</td>\n",
              "      <td>-0.566396</td>\n",
              "      <td>-0.566396</td>\n",
              "      <td>-0.431567</td>\n",
              "      <td>-0.447691</td>\n",
              "      <td>-0.641683</td>\n",
              "      <td>-0.618219</td>\n",
              "      <td>1.022</td>\n",
              "      <td>-0.602813</td>\n",
              "      <td>0.358</td>\n",
              "      <td>0.95</td>\n",
              "      <td>0.976</td>\n",
              "    </tr>\n",
              "    <tr>\n",
              "      <th>12</th>\n",
              "      <td>5.140</td>\n",
              "      <td>15.0</td>\n",
              "      <td>-0.253429</td>\n",
              "      <td>-0.273927</td>\n",
              "      <td>0.269980</td>\n",
              "      <td>-0.259560</td>\n",
              "      <td>-0.259560</td>\n",
              "      <td>-0.028924</td>\n",
              "      <td>-0.010545</td>\n",
              "      <td>-0.253576</td>\n",
              "      <td>-0.208466</td>\n",
              "      <td>1.026</td>\n",
              "      <td>-0.283557</td>\n",
              "      <td>0.521</td>\n",
              "      <td>0.95</td>\n",
              "      <td>0.976</td>\n",
              "    </tr>\n",
              "    <tr>\n",
              "      <th>13</th>\n",
              "      <td>6.175</td>\n",
              "      <td>18.0</td>\n",
              "      <td>0.114828</td>\n",
              "      <td>0.220949</td>\n",
              "      <td>0.575768</td>\n",
              "      <td>0.094471</td>\n",
              "      <td>0.094471</td>\n",
              "      <td>0.367247</td>\n",
              "      <td>0.412070</td>\n",
              "      <td>0.136374</td>\n",
              "      <td>0.195667</td>\n",
              "      <td>1.030</td>\n",
              "      <td>0.079080</td>\n",
              "      <td>0.707</td>\n",
              "      <td>0.95</td>\n",
              "      <td>0.976</td>\n",
              "    </tr>\n",
              "    <tr>\n",
              "      <th>14</th>\n",
              "      <td>7.148</td>\n",
              "      <td>21.0</td>\n",
              "      <td>0.529711</td>\n",
              "      <td>0.699836</td>\n",
              "      <td>0.853918</td>\n",
              "      <td>0.522977</td>\n",
              "      <td>0.522977</td>\n",
              "      <td>0.680502</td>\n",
              "      <td>0.736934</td>\n",
              "      <td>0.562276</td>\n",
              "      <td>0.630152</td>\n",
              "      <td>1.035</td>\n",
              "      <td>0.470391</td>\n",
              "      <td>0.907</td>\n",
              "      <td>0.95</td>\n",
              "      <td>0.976</td>\n",
              "    </tr>\n",
              "  </tbody>\n",
              "</table>\n",
              "</div>"
            ],
            "text/plain": [
              "       lp  ...  GT Turbine decay state coefficient\n",
              "0   2.088  ...                               0.975\n",
              "1   3.144  ...                               0.975\n",
              "2   4.161  ...                               0.975\n",
              "3   5.140  ...                               0.975\n",
              "4   6.175  ...                               0.975\n",
              "5   7.148  ...                               0.975\n",
              "6   8.206  ...                               0.975\n",
              "7   9.300  ...                               0.975\n",
              "8   1.138  ...                               0.976\n",
              "9   2.088  ...                               0.976\n",
              "10  3.144  ...                               0.976\n",
              "11  4.161  ...                               0.976\n",
              "12  5.140  ...                               0.976\n",
              "13  6.175  ...                               0.976\n",
              "14  7.148  ...                               0.976\n",
              "\n",
              "[15 rows x 16 columns]"
            ]
          },
          "metadata": {},
          "execution_count": 29
        }
      ]
    },
    {
      "cell_type": "markdown",
      "metadata": {
        "id": "GZnuZpv9IBEY"
      },
      "source": [
        "## **Splitting the Dataset**"
      ]
    },
    {
      "cell_type": "code",
      "metadata": {
        "id": "-R6itiG8hRgk"
      },
      "source": [
        "s = StandardScaler()\n",
        "X = pd.DataFrame(s.fit(X).fit_transform(X))"
      ],
      "execution_count": 30,
      "outputs": []
    },
    {
      "cell_type": "code",
      "metadata": {
        "colab": {
          "base_uri": "https://localhost:8080/"
        },
        "id": "Wdv-Fltsl8Mu",
        "outputId": "cf7296a2-e9df-4b64-cded-f4f48c8822ab"
      },
      "source": [
        "from sklearn.model_selection import train_test_split\n",
        "\n",
        "X_train, X_test, Y_train, Y_test = train_test_split(X, Y, test_size = 0.10, random_state=5)\n",
        "print(X_train.shape)\n",
        "print(X_test.shape)\n",
        "print(Y_train.shape)\n",
        "print(Y_test.shape)\n"
      ],
      "execution_count": 31,
      "outputs": [
        {
          "output_type": "stream",
          "name": "stdout",
          "text": [
            "(10739, 12)\n",
            "(1194, 12)\n",
            "(10739,)\n",
            "(1194,)\n"
          ]
        }
      ]
    },
    {
      "cell_type": "markdown",
      "metadata": {
        "id": "Mgp4GhSNHh5r"
      },
      "source": [
        "## **Linear Regression**"
      ]
    },
    {
      "cell_type": "code",
      "metadata": {
        "colab": {
          "base_uri": "https://localhost:8080/"
        },
        "id": "Py46_700mbKC",
        "outputId": "ad531837-4c47-41ee-e045-f8a6e641bb59"
      },
      "source": [
        "lin_model = LinearRegression()\n",
        "lin_model.fit(X_train, Y_train)"
      ],
      "execution_count": 32,
      "outputs": [
        {
          "output_type": "execute_result",
          "data": {
            "text/plain": [
              "LinearRegression(copy_X=True, fit_intercept=True, n_jobs=None, normalize=False)"
            ]
          },
          "metadata": {},
          "execution_count": 32
        }
      ]
    },
    {
      "cell_type": "code",
      "metadata": {
        "id": "rldqGX5wmiwZ"
      },
      "source": [
        "# model evaluation for training set\n",
        "y_train_predict = lin_model.predict(X_train)\n",
        "rmse = (np.sqrt(mean_squared_error(Y_train, y_train_predict)))\n",
        "mse = (mean_squared_error(Y_train, y_train_predict, squared=False))\n",
        "r2 = r2_score(Y_train, y_train_predict)"
      ],
      "execution_count": 33,
      "outputs": []
    },
    {
      "cell_type": "code",
      "metadata": {
        "colab": {
          "base_uri": "https://localhost:8080/"
        },
        "id": "sh15e1LxmoOA",
        "outputId": "03dd7887-cbbf-45ba-e137-4f40d6b64011"
      },
      "source": [
        "print(\"The model performance for training set\")\n",
        "print(\"--------------------------------------\")\n",
        "print('RMSE is {}'.format(rmse))\n",
        "print('MSE is {}'.format(mse))\n",
        "print('R2 score is {}'.format(r2))\n",
        "print(\"\\n\")"
      ],
      "execution_count": 34,
      "outputs": [
        {
          "output_type": "stream",
          "name": "stdout",
          "text": [
            "The model performance for training set\n",
            "--------------------------------------\n",
            "RMSE is 0.0059048227950767775\n",
            "MSE is 0.0059048227950767775\n",
            "R2 score is 0.8383606981018625\n",
            "\n",
            "\n"
          ]
        }
      ]
    },
    {
      "cell_type": "code",
      "metadata": {
        "id": "jHyD96Limi3a"
      },
      "source": [
        "# model evaluation for testing set\n",
        "y_test_predict = lin_model.predict(X_test)\n",
        "rmse = (np.sqrt(mean_squared_error(Y_test, y_test_predict)))\n",
        "mse = (mean_squared_error(Y_test, y_test_predict, squared=False))\n",
        "r2 = r2_score(Y_test, y_test_predict)"
      ],
      "execution_count": 35,
      "outputs": []
    },
    {
      "cell_type": "code",
      "metadata": {
        "colab": {
          "base_uri": "https://localhost:8080/"
        },
        "id": "wHIhWfPCmy_I",
        "outputId": "74e8b185-8c87-4ecc-e037-fecc3a11e174"
      },
      "source": [
        "print(\"The model performance for testing set\")\n",
        "print(\"--------------------------------------\")\n",
        "print('RMSE is {}'.format(rmse))\n",
        "print('MSE is {}'.format(mse))\n",
        "print('R2 score is {}'.format(r2))"
      ],
      "execution_count": 36,
      "outputs": [
        {
          "output_type": "stream",
          "name": "stdout",
          "text": [
            "The model performance for testing set\n",
            "--------------------------------------\n",
            "RMSE is 0.0060961644134483114\n",
            "MSE is 0.0060961644134483114\n",
            "R2 score is 0.8347753195415893\n"
          ]
        }
      ]
    },
    {
      "cell_type": "code",
      "metadata": {
        "id": "moA_jUgZ4IDB"
      },
      "source": [
        "# model evaluation for testing set\n",
        "y_test_predict = lin_model.predict(X_test)\n",
        "rmse = (np.sqrt(mean_squared_error(Y_test, y_test_predict)))\n",
        "mse = (mean_squared_error(Y_train, y_train_predict, squared=False))\n",
        "r2 = r2_score(Y_test, y_test_predict)"
      ],
      "execution_count": 37,
      "outputs": []
    },
    {
      "cell_type": "code",
      "metadata": {
        "id": "uYDDv8sU4TgO",
        "colab": {
          "base_uri": "https://localhost:8080/"
        },
        "outputId": "14249d68-4895-4015-c285-7971874539b3"
      },
      "source": [
        "print(\"The model performance for testing set\")\n",
        "print(\"--------------------------------------\")\n",
        "print('RMSE is {}'.format(rmse))\n",
        "print('MSE is {}'.format(mse))\n",
        "print('R2 score is {}'.format(r2))"
      ],
      "execution_count": 38,
      "outputs": [
        {
          "output_type": "stream",
          "name": "stdout",
          "text": [
            "The model performance for testing set\n",
            "--------------------------------------\n",
            "RMSE is 0.0060961644134483114\n",
            "MSE is 0.0059048227950767775\n",
            "R2 score is 0.8347753195415893\n"
          ]
        }
      ]
    },
    {
      "cell_type": "markdown",
      "metadata": {
        "id": "F9EZj6YuHtSn"
      },
      "source": [
        "## **SGDRegressor**"
      ]
    },
    {
      "cell_type": "code",
      "metadata": {
        "id": "iypve7vp4Vxw",
        "colab": {
          "base_uri": "https://localhost:8080/"
        },
        "outputId": "648d3a25-ed5c-497e-e355-c75068a11edd"
      },
      "source": [
        "model = SGDRegressor()\n",
        "model.fit(X_train, Y_train)"
      ],
      "execution_count": 39,
      "outputs": [
        {
          "output_type": "execute_result",
          "data": {
            "text/plain": [
              "SGDRegressor(alpha=0.0001, average=False, early_stopping=False, epsilon=0.1,\n",
              "             eta0=0.01, fit_intercept=True, l1_ratio=0.15,\n",
              "             learning_rate='invscaling', loss='squared_loss', max_iter=1000,\n",
              "             n_iter_no_change=5, penalty='l2', power_t=0.25, random_state=None,\n",
              "             shuffle=True, tol=0.001, validation_fraction=0.1, verbose=0,\n",
              "             warm_start=False)"
            ]
          },
          "metadata": {},
          "execution_count": 39
        }
      ]
    },
    {
      "cell_type": "code",
      "metadata": {
        "id": "gEN3tgJx8w9d"
      },
      "source": [
        "y_train_predict = model.predict(X_train)\n",
        "rmse = (np.sqrt(mean_squared_error(Y_train, y_train_predict)))\n",
        "r2 = r2_score(Y_train, y_train_predict)"
      ],
      "execution_count": 40,
      "outputs": []
    },
    {
      "cell_type": "code",
      "metadata": {
        "colab": {
          "base_uri": "https://localhost:8080/"
        },
        "id": "_eL01jHb814O",
        "outputId": "0f4441cc-799b-4e58-aee8-e64078df9bd8"
      },
      "source": [
        "print(\"The model performance for training set\")\n",
        "print(\"--------------------------------------\")\n",
        "print('RMSE is {}'.format(rmse))\n",
        "print('R2 score is {}'.format(r2))\n",
        "print(\"\\n\")"
      ],
      "execution_count": 41,
      "outputs": [
        {
          "output_type": "stream",
          "name": "stdout",
          "text": [
            "The model performance for training set\n",
            "--------------------------------------\n",
            "RMSE is 0.01289512934243903\n",
            "R2 score is 0.22912380694813161\n",
            "\n",
            "\n"
          ]
        }
      ]
    },
    {
      "cell_type": "code",
      "metadata": {
        "colab": {
          "base_uri": "https://localhost:8080/"
        },
        "id": "EE4GFfJB9Fb9",
        "outputId": "11994e8a-1641-4c6b-a9e8-6755390016d7"
      },
      "source": [
        "model = SGDRegressor(max_iter=100000000, alpha=0.00099, learning_rate='constant')\n",
        "model.fit(X_train, Y_train)"
      ],
      "execution_count": 42,
      "outputs": [
        {
          "output_type": "execute_result",
          "data": {
            "text/plain": [
              "SGDRegressor(alpha=0.00099, average=False, early_stopping=False, epsilon=0.1,\n",
              "             eta0=0.01, fit_intercept=True, l1_ratio=0.15,\n",
              "             learning_rate='constant', loss='squared_loss', max_iter=100000000,\n",
              "             n_iter_no_change=5, penalty='l2', power_t=0.25, random_state=None,\n",
              "             shuffle=True, tol=0.001, validation_fraction=0.1, verbose=0,\n",
              "             warm_start=False)"
            ]
          },
          "metadata": {},
          "execution_count": 42
        }
      ]
    },
    {
      "cell_type": "code",
      "metadata": {
        "id": "576RY4iz9ice"
      },
      "source": [
        "y_train_predict = model.predict(X_train)\n",
        "rmse = (np.sqrt(mean_squared_error(Y_train, y_train_predict)))\n",
        "mse = (mean_squared_error(Y_train, y_train_predict, squared=False))\n",
        "r2 = r2_score(Y_train, y_train_predict)"
      ],
      "execution_count": 43,
      "outputs": []
    },
    {
      "cell_type": "code",
      "metadata": {
        "id": "K28SPUAc_Ebu"
      },
      "source": [
        ""
      ],
      "execution_count": 43,
      "outputs": []
    },
    {
      "cell_type": "code",
      "metadata": {
        "colab": {
          "base_uri": "https://localhost:8080/"
        },
        "id": "45ahf_8n9mTH",
        "outputId": "2780ff9c-eb26-411d-fdfa-baea0879e379"
      },
      "source": [
        "print(\"The model performance for training set\")\n",
        "print(\"--------------------------------------\")\n",
        "print('RMSE is {}'.format(rmse))\n",
        "print('MSE is {}'.format(mse))\n",
        "print('R2 score is {}'.format(r2))\n",
        "print(\"\\n\")"
      ],
      "execution_count": 44,
      "outputs": [
        {
          "output_type": "stream",
          "name": "stdout",
          "text": [
            "The model performance for training set\n",
            "--------------------------------------\n",
            "RMSE is 0.009258928533139036\n",
            "MSE is 0.009258928533139036\n",
            "R2 score is 0.6025754490550222\n",
            "\n",
            "\n"
          ]
        }
      ]
    },
    {
      "cell_type": "code",
      "metadata": {
        "id": "C16LXWE79oQA"
      },
      "source": [
        "# model evaluation for testing set\n",
        "y_test_predict = model.predict(X_test)\n",
        "rmse = (np.sqrt(mean_squared_error(Y_test, y_test_predict)))\n",
        "mse = (mean_squared_error(Y_test, y_test_predict, squared=False))\n",
        "r2 = r2_score(Y_test, y_test_predict)"
      ],
      "execution_count": 45,
      "outputs": []
    },
    {
      "cell_type": "code",
      "metadata": {
        "colab": {
          "base_uri": "https://localhost:8080/"
        },
        "id": "LUKlzWaZ_c5w",
        "outputId": "83ca1011-820e-439c-b16d-be8656da2b5a"
      },
      "source": [
        "print(\"The model performance for testing set\")\n",
        "print(\"--------------------------------------\")\n",
        "print('RMSE is {}'.format(rmse))\n",
        "print('MSE is {}'.format(mse))\n",
        "print('R2 score is {}'.format(r2))"
      ],
      "execution_count": 46,
      "outputs": [
        {
          "output_type": "stream",
          "name": "stdout",
          "text": [
            "The model performance for testing set\n",
            "--------------------------------------\n",
            "RMSE is 0.009480000537322425\n",
            "MSE is 0.009480000537322425\n",
            "R2 score is 0.6004434065765281\n"
          ]
        }
      ]
    }
  ]
}